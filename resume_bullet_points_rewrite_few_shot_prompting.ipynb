{
 "cells": [
  {
   "cell_type": "code",
   "execution_count": 1,
   "id": "1d27fa40",
   "metadata": {},
   "outputs": [],
   "source": [
    "import os\n",
    "import openai\n",
    "from openai import OpenAI"
   ]
  },
  {
   "cell_type": "markdown",
   "id": "ab4ef03f",
   "metadata": {},
   "source": [
    "## OpenAI API Key"
   ]
  },
  {
   "cell_type": "code",
   "execution_count": 2,
   "id": "f160ae1b",
   "metadata": {},
   "outputs": [],
   "source": [
    "with open('../Open API Key/OpenAI - jasperlee3-c.txt', 'r') as infile:\n",
    "    openai_api_key = infile.read()"
   ]
  },
  {
   "cell_type": "code",
   "execution_count": 3,
   "id": "24ccb76c",
   "metadata": {},
   "outputs": [],
   "source": [
    "client = OpenAI(api_key=openai_api_key)"
   ]
  },
  {
   "cell_type": "markdown",
   "id": "2bce545b",
   "metadata": {},
   "source": [
    "## Prompt Design"
   ]
  },
  {
   "cell_type": "code",
   "execution_count": 46,
   "id": "013ce6f3",
   "metadata": {},
   "outputs": [],
   "source": [
    "task = \"\"\"You are a {sector} professional and good resume writer.\n",
    "\n",
    "You are going to refer the google XYZ formula with its examples and the following style of the bullet points from a good resume template and edit some bullet points of my resume that is not in the Google XYZ formula style.\n",
    "\n",
    "Every bullet point starts with ●.\n",
    "\n",
    "XYZ formula: Accomplished [X] as measured by [Y], by doing [Z].\n",
    "\n",
    "example 1 of xyz\n",
    "OK: \"Member of Leadership for Tomorrow Society\"\n",
    "Better: \"Selected as one of 275 for this 12-month professional development program for high-achieving diverse talent.\"\n",
    "Best: \"Selected as one of 275 participants nationwide for this 12-month professional development program for high-achieving diverse talent based on leadership potential and academic success.\"\n",
    "\n",
    "example 2 of xyz\n",
    "OK: \"Won second place in hackathon.\"\n",
    "Better: \"Won second place out of 50 teams in hackathon.\"\n",
    "Best: \"Won second place out of 50 teams in hackathon at NJ Tech by working with two colleagues to develop an app that synchronizes mobile calendars.\n",
    "\n",
    "example 3 of xyz\n",
    "OK: \"Grew revenue for small and medium business clients.\"\n",
    "Better: \"Grew revenue for small and medium business clients by 10% QoQ\"\n",
    "Best: \"Grew revenue for 15 small and medium business clients by 10% QoQ by mapping new software features as solutions to their business goals.\"\n",
    "\n",
    "the end of XYZ formula.\n",
    "\n",
    "Good resume:\n",
    "WORK EXPERIENCE\n",
    "Wonsulting Los Angeles, CA\n",
    "Marketing Strategist September 2020 – Present\n",
    "● Generate reports on Sprout Social and Excel to conduct trend analysis for social media content, identifying niche to optimize organic reach from 13% to 27% in a span of 3 months.\n",
    "● Collaborate with senior management including marketing lead to grow Instagram and LinkedIn accounts, implementing posting schedules for popular content which increased followers to 100k+\n",
    "● Provide recommendations to enter a niche market for career tips, conducting market research on Qualtrics for 100+ infographics and video content on TikTok\n",
    "● Utilize CRM platforms including Salesforce and Hubspot to service 50+ clients daily, working with sales team to identify pain points and marketing opportunities for success stories\n",
    "Target San Jose, CA\n",
    "Sales Manager January 2019 - January 2020\n",
    "● Analyzed financial statements, business summary reports, and dashboard recaps to attain data based on product comparable percentages and penetration rates for district managers which increased store efficiency by 16%.\n",
    "● Collaborated with senior management on multiple functions including customer success and finance, increasing survey submissions from 60% previous month to 75% by identifying the pain points of customer feedback.\n",
    "● Evaluated 100+ employees in 6 departments through surveys and office hours assessing strengths and overall skills which improved productivity for tasks by 23% daily.\n",
    "Nordstrom San Francisco, CA\n",
    "Seasonal Sales Associate April 2018 – September 2018\n",
    "● Presented recommendations for seasonal sales items including clothing and electronics to senior management, streamlining POS which accumulated to $1,500 in sales daily\n",
    "● Reviewed P&L with sales lead and district manager to identify highest & lowest penetration rates on all products, analyzing all products which increased efficiency of deliveries from store to customer by 17%\n",
    "● Maintained and built relationships with 100+ customers daily, providing exceptional customer service and efficient product deliveries daily which translated to a customer satisfaction rating score of 97%\n",
    "LEADERSHIP EXPERIENCE\n",
    "Association of Latino Professionals For America (ALPFA) Riverside, CA\n",
    "Director of Professional Development April 2017 – Present\n",
    "● Partner with 100+ professionals and recruiters in various firms and organizations, bringing out 10+ companies including Deloitte, KPMG, Vanguard, and Kohl’s for our Professional Networking Dinner with 150+ attendees.\n",
    "● Spearhead events for weekly meetings regarding resumes, cover letters, and LinkedIn workshops, presenting research during ALPFA Regional, Los Angeles Pre-Convention workshop for 110+ students and professionals.\n",
    "Second Harvest Toronto, ON\n",
    "Volunteer Lead March 2019 – May 2019\n",
    "● Coordinated 3 events with team members regarding food rescue charities at local businesses, generating 50 tons of vegetables and fruits to donate to 500+ homeless shelters across the Toronto area\n",
    "● Provided 105+ vegetable meals daily to front-line workers to help prevent 70M+ pounds of greenhouse gases\n",
    "\n",
    "The end of good resume.\n",
    "\n",
    "The bullet points of my resume:\n",
    "\n",
    "{resume}\n",
    "\n",
    "The end of my resume.\n",
    "\n",
    "At last, I want a scale from 1 to 10, how you rate the resume based on the XYZ formula and give me a simple reason as a {sector} professional and great resume writer.\n",
    "\n",
    "You can reply by referring the following replying template:\n",
    "\n",
    "I would rate your resume a 6 out of 10 based on the XYZ formula. While some of your bullet points do follow the formula by indicating accomplishments and measurable results, others are more task-oriented.\n",
    "\n",
    "Here are some suggested revisions to align your bullet points with the XYZ formula:\n",
    "THE BULLET\n",
    "\n",
    "\"\"\""
   ]
  },
  {
   "cell_type": "markdown",
   "id": "19a94d89",
   "metadata": {},
   "source": [
    "## Feed 1"
   ]
  },
  {
   "cell_type": "code",
   "execution_count": 47,
   "id": "ed43cc37",
   "metadata": {},
   "outputs": [],
   "source": [
    "sector = \"administrative\"\n",
    "\n",
    "resume = \"\"\"WORK EXPERIENCE\n",
    "Banking Advisor\n",
    "Royal Bank of Canada (RBC)\n",
    "09/2023 - Present, Ontario, Canada Royal Bank of Canada (RBC) is a Canadian multinational financial services company.\n",
    "● Engageing with clients through various channels for exceptional customer service. \n",
    "● Assisting with a range of banking solutions and promptly addressing client concerns at the first point of contact. \n",
    "● Protecting client interests by following compliance routines, processes, and controls to manage risks.\n",
    "● Supporting all colleagues to meet client needs and contribute to team results.\n",
    "Property and Facility Officer\n",
    "Hong Yip Service Company Limited\n",
    "10/2019 - 05/2023, Hong Kong\n",
    "Hong Yip Service Company Limited is a Hong Kong property and facilities management company.\n",
    "● Undertaked diverse administrative and clerical tasks.\n",
    "● Managed emergency situations, address customer inquiries, and handle complaints.\n",
    "● Supervised the upkeep, security, and cleanliness standards of properties.\n",
    "● Developed and nurture positive connections with tenants, landlords, and various departments.\n",
    "● Proficient in property leasing and administration.\n",
    "● Collaborated with the tenant to organize sales promotions and facilitate event execution.\"\"\""
   ]
  },
  {
   "cell_type": "code",
   "execution_count": 51,
   "id": "59a2a602",
   "metadata": {
    "scrolled": false
   },
   "outputs": [
    {
     "name": "stdout",
     "output_type": "stream",
     "text": [
      "I would rate your resume a 6 out of 10 based on the XYZ formula. While some of your bullet points do follow the formula by indicating accomplishments and measurable results, others are more task-oriented.\n",
      "\n",
      "Here are some suggested revisions to align your bullet points with the XYZ formula:\n",
      "\n",
      "Banking Advisor\n",
      "Royal Bank of Canada (RBC)\n",
      "09/2023 - Present, Ontario, Canada Royal Bank of Canada (RBC) is a Canadian multinational financial services company.\n",
      "\n",
      "● Successfully engage with clients through various channels, providing exceptional customer service to ensure a high level of satisfaction.\n",
      "● Assist clients with a range of banking solutions and efficiently address their concerns at the first point of contact.\n",
      "● Maintain compliance with routines, processes, and controls to effectively manage risks and protect client interests.\n",
      "● Work collaboratively with colleagues to meet client needs and contribute to the team's overall results.\n",
      "\n",
      "Property and Facility Officer\n",
      "Hong Yip Service Company Limited\n",
      "10/2019 - 05/2023, Hong Kong\n",
      "Hong Yip Service Company Limited is a Hong Kong property and facilities management company.\n",
      "\n",
      "● Perform diverse administrative and clerical tasks to ensure smooth operations of properties.\n",
      "● Effectively manage emergency situations, address customer inquiries, and resolve complaints in a timely manner.\n",
      "● Supervise and maintain high standards of property upkeep, security, and cleanliness.\n",
      "● Develop and nurture positive connections with tenants, landlords, and various departments to enhance property management.\n",
      "● Demonstrate proficiency in property leasing and administration.\n",
      "● Collaborate with tenants to organize successful sales promotions and execute events smoothly.\n",
      "\n",
      "Overall, these revisions showcase more specific accomplishments and measurable results, aligning with the XYZ formula. However, there is still room for improvement in terms of providing quantifiable metrics or specific examples of achievements.\n"
     ]
    }
   ],
   "source": [
    "session = client.chat.completions.create(\n",
    "    model=\"gpt-3.5-turbo\",\n",
    "    messages=[{\n",
    "        \"role\": \"user\",\n",
    "        \"content\": task.format(sector=sector, resume=resume)\n",
    "    }]\n",
    ")\n",
    "\n",
    "response = session.choices[0].message.content\n",
    "\n",
    "print(response)"
   ]
  },
  {
   "cell_type": "markdown",
   "id": "5b30a76e",
   "metadata": {},
   "source": [
    "## Feed 2"
   ]
  },
  {
   "cell_type": "code",
   "execution_count": 52,
   "id": "8aee3d3c",
   "metadata": {},
   "outputs": [],
   "source": [
    "sector = \"data science\"\n",
    "\n",
    "resume = \"\"\"PROFESSIONAL EXPERIENCE\n",
    "Aviation Services Research Centre at the Hong Kong Polytechnic University Hong Kong\n",
    "Data Scientist , Full Time Feb 2021 Jun 2023\n",
    "● Directed the development and deployment of the YOLOv5 deep learning model, resulting in a revenue of 200k\n",
    "and achieving an F1 score of 0.93, a 130% enhancement through training with 3GB of data and data augmentation.\n",
    "● Improved the robustness of pencil’s sharpness detection model by enhancing its adaptability to varying light\n",
    "conditions to 99%, by using image augmentation and U2Net, a SOTA semantic segmentation model.\n",
    "● Increased the accuracy of text detection in an industrial project by 200%, by recommending the use of PaddleOCR ,\n",
    "a SOTA pre trained OCR model and generative AI for synthetic data generation to train the model.\n",
    "● Created reports to identify patterns and deliver data driven insights , e.g. a factor introducing 4x distortion, by\n",
    "conducting data cleaning, A/B testing , visualization and regression on 10+ dataset s by matplotlib , Pandas and SQL.\n",
    "● Reduced time spent for retrieving 30m+ rows by 90%, by a utomat ing data pipelines with GridFS and MongoDB\n",
    "Shen Milsom and Wilke LLC Hong Kong\n",
    "Audiovisual Engineer, Full Time Nov 2019 Feb 2021\n",
    "● Designed audiovisual systems such as schematic designs and floor plans for 10+ commercial buildings by AutoCAD.\n",
    "● Prepared budget plans, specification documents and proposals for 10+ clients’ projects using MS Office.\n",
    "\n",
    "PROJECTS\n",
    "LendingClub Loan Analysis\n",
    "● Conducted data cleaning and ETL on a large dataset with 2.9m+ rows and 141 columns, and designed a dashboard using DAX and Power Query to analyze the risk factors and KPIs such as default rate, ROI and IRR for the loans.\n",
    "● Modelled the probability of default for credit risk analysis, materially boosting ROI of a portfolio by 58%.\n",
    "Quantitative Risk Modelling Link\n",
    "● Led the development of an advanced value-at-risk model, implementing Quantile Regression based on the CAViaR framework, resulting in a more computationally efficient optimization approach.\n",
    "● Enhanced the project visibility via the creation of an interactive dashboard on AWS EC2 for forecasting risk level.\n",
    "YOLOv5 Object Detection for Industrial Maintenance\n",
    "● Created an API for model serving and trained the model with an F1 score of 0.93 by transfer learning.\n",
    "Predicting Stock Market Returns\n",
    "● Performed model-based feature selection and dimensionality reduction to predict the market returns, having a 2x outperformance compared to the baseline regarding the Sharpe ratio and return.\n",
    "Monthly Sales Driver Analysis Dashboard\n",
    "● Created a report to identify the sales trend and evaluate 10+ KPIs of the monthly and yearly performance.\n",
    "E-Commerce Analytics & VIP Customer Prediction\n",
    "● Used RFM to build customers’ behaviors features and predict VIPs by XGBoost with forward selection.\n",
    "Movie Library Website\n",
    "● Led a team of 5 to develop a website with a recommender, including frontend, backend, backend and database.\n",
    "Car Park Availability Analysis\n",
    "● Headed a team of 4 to perform exploratory data analysis and train an regression model with an R2 of 0.99.\n",
    "\"\"\""
   ]
  },
  {
   "cell_type": "code",
   "execution_count": 53,
   "id": "54f8104e",
   "metadata": {},
   "outputs": [
    {
     "name": "stdout",
     "output_type": "stream",
     "text": [
      "Based on the XYZ formula, I would rate your resume a 6 out of 10. While most of your bullet points mention accomplishments, they are not explicitly measured or quantified, which is an important aspect of the XYZ formula. Quantifying your achievements helps to provide concrete evidence of your skills and abilities. Additionally, the bullet points could benefit from providing more context and specificity, such as mentioning the impact of your accomplishments or the specific tools and techniques you used.\n",
      "\n",
      "The reason for the rating is that while your resume showcases relevant experiences and projects, it could be enhanced by providing clear measurements of your accomplishments and more specific details. By following the XYZ formula and incorporating specific metrics and outcomes, you can create a stronger and more impactful resume that highlights your achievements in a more compelling way.\n"
     ]
    }
   ],
   "source": [
    "session = client.chat.completions.create(\n",
    "    model=\"gpt-3.5-turbo\",\n",
    "    messages=[{\n",
    "        \"role\": \"user\",\n",
    "        \"content\": task.format(sector=sector, resume=resume)\n",
    "    }]\n",
    ")\n",
    "\n",
    "response = session.choices[0].message.content\n",
    "\n",
    "print(response)"
   ]
  },
  {
   "cell_type": "code",
   "execution_count": null,
   "id": "6591e48d",
   "metadata": {},
   "outputs": [],
   "source": []
  }
 ],
 "metadata": {
  "kernelspec": {
   "display_name": "Python 3 (ipykernel)",
   "language": "python",
   "name": "python3"
  },
  "language_info": {
   "codemirror_mode": {
    "name": "ipython",
    "version": 3
   },
   "file_extension": ".py",
   "mimetype": "text/x-python",
   "name": "python",
   "nbconvert_exporter": "python",
   "pygments_lexer": "ipython3",
   "version": "3.10.13"
  }
 },
 "nbformat": 4,
 "nbformat_minor": 5
}
