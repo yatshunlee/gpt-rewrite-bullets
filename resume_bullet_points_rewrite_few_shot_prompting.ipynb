{
 "cells": [
  {
   "cell_type": "code",
   "execution_count": 14,
   "id": "1d27fa40",
   "metadata": {},
   "outputs": [],
   "source": [
    "import os\n",
    "import openai\n",
    "from openai import OpenAI"
   ]
  },
  {
   "cell_type": "markdown",
   "id": "ab4ef03f",
   "metadata": {},
   "source": [
    "## OpenAI API Key"
   ]
  },
  {
   "cell_type": "code",
   "execution_count": 15,
   "id": "f160ae1b",
   "metadata": {},
   "outputs": [],
   "source": [
    "with open('../Open API Key/OpenAI - jasperlee3-c.txt', 'r') as infile:\n",
    "    openai_api_key = infile.read()"
   ]
  },
  {
   "cell_type": "code",
   "execution_count": 16,
   "id": "24ccb76c",
   "metadata": {},
   "outputs": [],
   "source": [
    "client = OpenAI(api_key=openai_api_key)"
   ]
  },
  {
   "cell_type": "markdown",
   "id": "2bce545b",
   "metadata": {},
   "source": [
    "## Prompt Design"
   ]
  },
  {
   "cell_type": "code",
   "execution_count": 51,
   "id": "f4723220",
   "metadata": {},
   "outputs": [],
   "source": [
    "identity_of_gpt = \"You are a {sector} professional and good resume writer.\""
   ]
  },
  {
   "cell_type": "code",
   "execution_count": 52,
   "id": "5cd5b2d1",
   "metadata": {},
   "outputs": [],
   "source": [
    "objective_of_gpt = \"You are going to refer the google XYZ formula that I'll provide you with \\\n",
    "its examples and the style of the bullet points in a good resume template \\\n",
    "and rewrite some bullet points of my resume that does not match the style of Google XYZ formula \\\n",
    "so that the edited bullet points can satisfy the format.\""
   ]
  },
  {
   "cell_type": "code",
   "execution_count": 53,
   "id": "7dcf5368",
   "metadata": {},
   "outputs": [],
   "source": [
    "with open('google_xyz.txt', 'r') as infile:\n",
    "    google_xyz_formula_and_examples = infile.read()"
   ]
  },
  {
   "cell_type": "code",
   "execution_count": 54,
   "id": "1ca25f5a",
   "metadata": {},
   "outputs": [],
   "source": [
    "with open('good_resume.txt', 'r', encoding='utf-8') as infile:\n",
    "    good_resume = infile.read()"
   ]
  },
  {
   "cell_type": "code",
   "execution_count": 55,
   "id": "d7f0fe6e",
   "metadata": {},
   "outputs": [],
   "source": [
    "output_format_of_gpt = \"\"\"You have to rewrite each bullet point by following the replying format:\n",
    "original: [the space for the original bullet point; you can keep only first 2 words and followed by ...]\n",
    "rewritten: [the space for the rewritten content in form of XYZ formula]\n",
    "remark 1: Every bullet point should start with a action verb in past tense.\n",
    "remark 2: If you don't find any numbers for the measure of achievement, make up a number 99.999%.\n",
    "input example: \n",
    "Undertook diverse administrative and clerical tasks.\n",
    "output example: \n",
    "original: Undertook diverse...\n",
    "rewritten: Accomplished diverse administrative and clerical tasks with 99.999% efficiency and 99.999% accuracy to ensure smooth operations.\n",
    "input example: \n",
    "Engageing with clients through various channels for exceptional customer service.\n",
    "output example: \n",
    "original: Engaged with...\n",
    "rewritten: Engaged with clients through various channels, ensuring exceptional customer service with a 99.999% satisfaction\n",
    "input example: \n",
    "Collaborated with the tenant to organize sales promotions and facilitate event execution.\n",
    "output example: \n",
    "original: Collaborated with... tenants to strategize and execute successful sales promotions and events, driving a 99.999% revenue growth.\n",
    "rewritten: Collaborated with tenants to strategize and execute successful sales promotions and events, driving a 99.999% revenue growth.\n",
    "input example: \n",
    "Assisting with a range of banking solutions and promptly addressing client concerns at the first point of contact.\n",
    "output example: \n",
    "original: Assisted clients...\n",
    "rewritten: Assisted clients with a wide range of banking solutions and promptly addressed their concerns at the first point of contact, achieving a 99.999% customer satisfaction rate.\n",
    "input example: \n",
    "Protecting client interests by following compliance routines, processes, and controls to manage risks.\n",
    "output example: \n",
    "original: Protecting client...\n",
    "rewritten: Safeguarded client interests by diligently following compliance routines, processes, and controls to effectively manage risks with a 99.999% compliance rate.\n",
    "input example:\n",
    "Supporting all colleagues to meet client needs and contribute to team results.\n",
    "output example:\n",
    "original: Supporting all...\n",
    "rewritten: Supported colleagues in meeting client needs and contributed to overall team results with a collaborative approach, leading to a 99.999% client satisfaction rate.\"\"\""
   ]
  },
  {
   "cell_type": "code",
   "execution_count": 56,
   "id": "13476be8",
   "metadata": {},
   "outputs": [],
   "source": [
    "content = \"\"\"{identity_of_gpt} {objective_of_gpt}\n",
    "{google_xyz_formula_and_examples}\n",
    "{good_resume}\n",
    "My bullet point(s) in my resume:\n",
    "{resume}\n",
    "End of my bullet point(s) in my resume.\n",
    "{output_format_of_gpt}\n",
    "\"\"\".format(\n",
    "    identity_of_gpt=identity_of_gpt,\n",
    "    objective_of_gpt=objective_of_gpt,\n",
    "    google_xyz_formula_and_examples=google_xyz_formula_and_examples,\n",
    "    good_resume=good_resume,\n",
    "    resume=\"{resume}\",\n",
    "    output_format_of_gpt=output_format_of_gpt)"
   ]
  },
  {
   "cell_type": "markdown",
   "id": "19a94d89",
   "metadata": {},
   "source": [
    "## Feed 1"
   ]
  },
  {
   "cell_type": "code",
   "execution_count": 57,
   "id": "ed43cc37",
   "metadata": {},
   "outputs": [],
   "source": [
    "sector = \"administrative\"\n",
    "\n",
    "resume = \"\"\"WORK EXPERIENCE\n",
    "Banking Advisor\n",
    "Royal Bank of Canada (RBC)\n",
    "09/2023 - Present, Ontario, Canada Royal Bank of Canada (RBC) is a Canadian multinational financial services company.\n",
    "● Engageing with clients through various channels for exceptional customer service. \n",
    "● Assisting with a range of banking solutions and promptly addressing client concerns at the first point of contact. \n",
    "● Protecting client interests by following compliance routines, processes, and controls to manage risks.\n",
    "● Supporting all colleagues to meet client needs and contribute to team results.\n",
    "Property and Facility Officer\n",
    "Hong Yip Service Company Limited\n",
    "10/2019 - 05/2023, Hong Kong\n",
    "Hong Yip Service Company Limited is a Hong Kong property and facilities management company.\n",
    "● Undertaked diverse administrative and clerical tasks.\n",
    "● Managed emergency situations, address customer inquiries, and handle complaints.\n",
    "● Supervised the upkeep, security, and cleanliness standards of properties.\n",
    "● Developed and nurture positive connections with tenants, landlords, and various departments.\n",
    "● Proficient in property leasing and administration.\n",
    "● Collaborated with the tenant to organize sales promotions and facilitate event execution.\"\"\""
   ]
  },
  {
   "cell_type": "code",
   "execution_count": 58,
   "id": "59a2a602",
   "metadata": {
    "scrolled": false
   },
   "outputs": [
    {
     "name": "stdout",
     "output_type": "stream",
     "text": [
      "original: Undertook diverse...\n",
      "rewritten: Accomplished diverse administrative and clerical tasks with 99.999% efficiency and 99.999% accuracy to ensure smooth operations.\n",
      "\n",
      "original: Engaged with...\n",
      "rewritten: Engaged with clients through various channels, ensuring exceptional customer service with a 99.999% satisfaction rate.\n",
      "\n",
      "original: Assisted clients...\n",
      "rewritten: Assisted clients with a wide range of banking solutions and promptly addressed their concerns at the first point of contact, achieving a 99.999% customer satisfaction rate.\n",
      "\n",
      "original: Protecting client...\n",
      "rewritten: Safeguarded client interests by diligently following compliance routines, processes, and controls to effectively manage risks with a 99.999% compliance rate.\n",
      "\n",
      "original: Supported all...\n",
      "rewritten: Supported colleagues in meeting client needs and contributed to overall team results with a collaborative approach, leading to a 99.999% client satisfaction rate.\n",
      "\n",
      "original: Managed emergency...\n",
      "rewritten: Managed emergency situations with a calm and efficient approach, ensuring prompt resolution and maintaining a 99.999% customer satisfaction rate.\n",
      "\n",
      "original: Supervised the upkeep...\n",
      "rewritten: Supervised the upkeep, security, and cleanliness standards of properties, maintaining a 99.999% rating for property maintenance and tenant satisfaction.\n",
      "\n",
      "original: Developed and nurture...\n",
      "rewritten: Developed and nurtured positive connections with tenants, landlords, and various departments, resulting in a 99.999% tenant retention rate and effective collaboration.\n",
      "\n",
      "original: Proficient in property...\n",
      "rewritten: Demonstrated proficiency in property leasing and administration, ensuring smooth operations and achieving a 99.999% accuracy in lease agreements and documentation.\n",
      "\n",
      "original: Collaborated with...\n",
      "rewritten: Collaborated with tenants to strategize and execute successful sales promotions and events, driving a 99.999% revenue growth.\n",
      "\n",
      "original: Accomplished diverse...\n",
      "rewritten: Accomplished diverse administrative and clerical tasks with 99.999% efficiency and 99.999% accuracy, ensuring smooth operations and maintaining a high level of professionalism.\n"
     ]
    }
   ],
   "source": [
    "session = client.chat.completions.create(\n",
    "    model=\"gpt-3.5-turbo\",\n",
    "    messages=[{\n",
    "        \"role\": \"user\",\n",
    "        \"content\": content.format(sector=sector, resume=resume)\n",
    "    }],\n",
    "    temperature=1\n",
    ")\n",
    "\n",
    "response = session.choices[0].message.content\n",
    "\n",
    "print(response)"
   ]
  },
  {
   "cell_type": "code",
   "execution_count": null,
   "id": "6591e48d",
   "metadata": {},
   "outputs": [],
   "source": []
  }
 ],
 "metadata": {
  "kernelspec": {
   "display_name": "Python 3 (ipykernel)",
   "language": "python",
   "name": "python3"
  },
  "language_info": {
   "codemirror_mode": {
    "name": "ipython",
    "version": 3
   },
   "file_extension": ".py",
   "mimetype": "text/x-python",
   "name": "python",
   "nbconvert_exporter": "python",
   "pygments_lexer": "ipython3",
   "version": "3.10.13"
  }
 },
 "nbformat": 4,
 "nbformat_minor": 5
}
