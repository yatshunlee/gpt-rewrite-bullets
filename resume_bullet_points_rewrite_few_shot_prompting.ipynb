{
 "cells": [
  {
   "cell_type": "code",
   "execution_count": 14,
   "id": "1d27fa40",
   "metadata": {},
   "outputs": [],
   "source": [
    "import os\n",
    "import openai\n",
    "from openai import OpenAI"
   ]
  },
  {
   "cell_type": "markdown",
   "id": "ab4ef03f",
   "metadata": {},
   "source": [
    "## OpenAI API Key"
   ]
  },
  {
   "cell_type": "code",
   "execution_count": 15,
   "id": "f160ae1b",
   "metadata": {},
   "outputs": [],
   "source": [
    "with open('../Open API Key/OpenAI - jasperlee3-c.txt', 'r') as infile:\n",
    "    openai_api_key = infile.read()"
   ]
  },
  {
   "cell_type": "code",
   "execution_count": 16,
   "id": "24ccb76c",
   "metadata": {},
   "outputs": [],
   "source": [
    "client = OpenAI(api_key=openai_api_key)"
   ]
  },
  {
   "cell_type": "markdown",
   "id": "2bce545b",
   "metadata": {},
   "source": [
    "## Prompt Design"
   ]
  },
  {
   "cell_type": "code",
   "execution_count": 59,
   "id": "f4723220",
   "metadata": {},
   "outputs": [],
   "source": [
    "identity_of_gpt = \"You are a professional in the sector(s) of {sectors} and good resume writer.\""
   ]
  },
  {
   "cell_type": "code",
   "execution_count": 60,
   "id": "5cd5b2d1",
   "metadata": {},
   "outputs": [],
   "source": [
    "objective_of_gpt = \"You are going to refer the google XYZ formula that I'll provide you with \\\n",
    "its examples and the style of the bullet points in a good resume template \\\n",
    "and rewrite some bullet points of my resume that does not match the style of Google XYZ formula \\\n",
    "so that the edited bullet points can satisfy the format.\""
   ]
  },
  {
   "cell_type": "code",
   "execution_count": 61,
   "id": "10a0efcf",
   "metadata": {},
   "outputs": [],
   "source": [
    "with open('google_xyz.txt', 'r') as infile:\n",
    "    google_xyz_formula_and_examples = infile.read()"
   ]
  },
  {
   "cell_type": "code",
   "execution_count": 62,
   "id": "d98fc1c9",
   "metadata": {},
   "outputs": [],
   "source": [
    "with open('good_resume.txt', 'r', encoding='utf-8') as infile:\n",
    "    good_resume = infile.read()"
   ]
  },
  {
   "cell_type": "code",
   "execution_count": 73,
   "id": "9b322ea6",
   "metadata": {},
   "outputs": [],
   "source": [
    "with open('action_words.txt', 'r') as infile:\n",
    "    action_words = infile.read()"
   ]
  },
  {
   "cell_type": "code",
   "execution_count": 85,
   "id": "d7f0fe6e",
   "metadata": {},
   "outputs": [],
   "source": [
    "output_format_of_gpt = \"\"\"You have to rewrite each bullet point by following the replying format:\n",
    "original: [the space for the original bullet point; you can keep only first 2 words and followed by ...]\n",
    "rewritten: [the space for the rewritten content in form of XYZ formula]\n",
    "remark 1: Every bullet point should start with a action verb in past tense.\n",
    "remark 2: If you don't find any numbers for the measure of achievement, make up a number 99.999%.\n",
    "input example: \n",
    "Undertook diverse administrative and clerical tasks.\n",
    "output example: \n",
    "original: Undertook diverse...\n",
    "rewritten: Accomplished diverse administrative and clerical tasks with 99.999% efficiency and 99.999% accuracy to ensure smooth operations.\n",
    "input example: \n",
    "Engageing with clients through various channels for exceptional customer service.\n",
    "output example: \n",
    "original: Engaged with...\n",
    "rewritten: Engaged with clients through various channels, ensuring exceptional customer service with a 99.999% satisfaction\n",
    "input example: \n",
    "Designed HVAC System for a public rental housing project for 114,000 square meter with 2591 flats\n",
    "output example: \n",
    "original: Designed HVAC...\n",
    "rewritten: Designed an efficient HVAC System for a public rental housing project spanning 114,000 square meters with 2,591 flats, ensuring optimal comfort and increasing 99.999% in energy efficiency.\n",
    "input example:\n",
    "Designed HVAC air side schematic, ducts sizing as per ASHRAE 62.1 standard\n",
    "output example:\n",
    "original: Designed HVAC...\n",
    "rewritten: Designed HVAC air side schematic and sized ducts according to ASHRAE 62.1 standard, increasing system performance by 99.999% and matching 99.999% in the regulatory compliance.\"\"\"\n",
    "\n",
    "# input example: \n",
    "# Assisting with a range of banking solutions and promptly addressing client concerns at the first point of contact.\n",
    "# output example: \n",
    "# original: Assisted clients...\n",
    "# rewritten: Assisted clients with a wide range of banking solutions and promptly addressed their concerns at the first point of contact, achieving a 99.999% customer satisfaction rate.\n",
    "# input example: \n",
    "# Protecting client interests by following compliance routines, processes, and controls to manage risks.\n",
    "# output example: \n",
    "# original: Protecting client...\n",
    "# rewritten: Safeguarded client interests by diligently following compliance routines, processes, and controls to effectively manage risks with a 99.999% compliance rate.\n",
    "# input example:\n",
    "# Supporting all colleagues to meet client needs and contribute to team results.\n",
    "# output example:\n",
    "# original: Supporting all...\n",
    "# rewritten: Supported colleagues in meeting client needs and contributed to overall team results with a collaborative approach, leading to a 99.999% client satisfaction rate."
   ]
  },
  {
   "cell_type": "code",
   "execution_count": 86,
   "id": "d0849b8f",
   "metadata": {},
   "outputs": [],
   "source": [
    "content = \"\"\"{identity_of_gpt} {objective_of_gpt}\n",
    "{google_xyz_formula_and_examples}\n",
    "{good_resume}\n",
    "Possible action words:\n",
    "{action_words}\n",
    "My bullet point(s) in my resume:\n",
    "{resume}\n",
    "End of my bullet point(s) in my resume.\n",
    "{output_format_of_gpt}\n",
    "\"\"\".format(\n",
    "    identity_of_gpt=identity_of_gpt,\n",
    "    objective_of_gpt=objective_of_gpt,\n",
    "    google_xyz_formula_and_examples=google_xyz_formula_and_examples,\n",
    "    good_resume=good_resume,\n",
    "    action_words=action_words,\n",
    "    resume=\"{resume}\",\n",
    "    output_format_of_gpt=output_format_of_gpt)"
   ]
  },
  {
   "cell_type": "markdown",
   "id": "19a94d89",
   "metadata": {},
   "source": [
    "## Feed 1"
   ]
  },
  {
   "cell_type": "code",
   "execution_count": 87,
   "id": "ed43cc37",
   "metadata": {},
   "outputs": [],
   "source": [
    "sectors = \"(1) banking and (2) property and facilities management\"\n",
    "\n",
    "resume = \"\"\"WORK EXPERIENCE\n",
    "Banking Advisor, XXX Bank, Toronto, Ontario\n",
    "● Engageing with clients through various channels for exceptional customer service. \n",
    "● Assisting with a range of banking solutions and promptly addressing client concerns at the first point of contact. \n",
    "● Protecting client interests by following compliance routines, processes, and controls to manage risks.\n",
    "● Supporting all colleagues to meet client needs and contribute to team results.\n",
    "Property and Facility Officer, ABC Company Limited, Hong Kong\n",
    "● Undertaked diverse administrative and clerical tasks.\n",
    "● Managed emergency situations, address customer inquiries, and handle complaints.\n",
    "● Supervised the upkeep, security, and cleanliness standards of properties.\n",
    "● Developed and nurture positive connections with tenants, landlords, and various departments.\n",
    "● Proficient in property leasing and administration.\n",
    "● Collaborated with the tenant to organize sales promotions and facilitate event execution.\"\"\""
   ]
  },
  {
   "cell_type": "code",
   "execution_count": 89,
   "id": "5d86b5ff",
   "metadata": {},
   "outputs": [
    {
     "name": "stdout",
     "output_type": "stream",
     "text": [
      "Original: Engaged with clients through various channels for exceptional customer service.\n",
      "Rewritten: Provided exceptional customer service by engaging with clients through various channels, achieving a 99.999% satisfaction rate.\n",
      "\n",
      "Original: Assisting with a range of banking solutions and promptly addressing client concerns at the first point of contact.\n",
      "Rewritten: Addressed client concerns at the first point of contact and provided prompt assistance with a range of banking solutions, ensuring a 99.999% issue resolution rate.\n",
      "\n",
      "Original: Protecting client interests by following compliance routines, processes, and controls to manage risks.\n",
      "Rewritten: Managed risks and protected client interests by meticulously following compliance routines, processes, and controls, ensuring a 99.999% adherence rate.\n",
      "\n",
      "Original: Supporting all colleagues to meet client needs and contribute to team results.\n",
      "Rewritten: Provided support to colleagues and successfully contributed to meeting client needs and achieving team results with a 99.999% collaboration rate.\n",
      "\n",
      "Original: Undertook diverse administrative and clerical tasks.\n",
      "Rewritten: Accomplished diverse administrative and clerical tasks with 99.999% efficiency and 99.999% accuracy to ensure smooth operations.\n",
      "\n",
      "Original: Managed emergency situations, address customer inquiries, and handle complaints.\n",
      "Rewritten: Effectively managed emergency situations, promptly addressed customer inquiries, and skillfully handled complaints, resulting in a 99.999% customer satisfaction rate.\n",
      "\n",
      "Original: Supervised the upkeep, security, and cleanliness standards of properties.\n",
      "Rewritten: Supervised the upkeep, security, and maintenance of properties, ensuring compliance with cleanliness standards and achieving a 99.999% level of satisfaction.\n",
      "\n",
      "Original: Developed and nurtured positive connections with tenants, landlords, and various departments.\n",
      "Rewritten: Cultivated and nurtured positive connections with tenants, landlords, and various departments, fostering a 99.999% harmonious working relationship.\n",
      "\n",
      "Original: Proficient in property leasing and administration.\n",
      "Rewritten: Demonstrated proficiency in property leasing and administration, achieving a 99.999% accuracy in lease agreements and administrative tasks.\n",
      "\n",
      "Original: Collaborated with the tenant to organize sales promotions and facilitate event execution.\n",
      "Rewritten: Collaborated with tenants to coordinate successful sales promotions and seamlessly execute events, resulting in a 99.999% increase in event attendance and sales.\n"
     ]
    }
   ],
   "source": [
    "session = client.chat.completions.create(\n",
    "    model=\"gpt-3.5-turbo\",\n",
    "    messages=[{\n",
    "        \"role\": \"user\",\n",
    "        \"content\": content.format(sectors=sectors, resume=resume)\n",
    "    }],\n",
    "    temperature=1\n",
    ")\n",
    "\n",
    "response = session.choices[0].message.content\n",
    "\n",
    "print(response)"
   ]
  },
  {
   "cell_type": "markdown",
   "id": "a997b0a2",
   "metadata": {},
   "source": [
    "## Feed 2"
   ]
  },
  {
   "cell_type": "code",
   "execution_count": 90,
   "id": "6fdb5e54",
   "metadata": {},
   "outputs": [],
   "source": [
    "sectors = \"Mechanical Engineering and HVAC\"\n",
    "\n",
    "resume = \"\"\"Work Experience\n",
    "ABC Limited\n",
    "Engineer I Oct 2020 – Jun 2023\n",
    "• Prepared engineering calculations, construction drawings, technical specifications for all stages of project delivery\n",
    "• Designed HVAC air side schematic, ducts sizing as per ASHRAE 62.1 standard\n",
    "• Completed The Hong Kong Institution of Engineers (HKIE) Formal Training Scheme (Scheme A)\n",
    "• Coordinated and presented technical information to clients including the Housing Authority and Transit Authority (MTR)\n",
    "• Performed on site field reviews throughout construction and warranty periods of projects\n",
    "UIO Limited\n",
    "Assistant Engineer Jun 2018 – Sep 2018\n",
    "• Involved in on-site support, trouble shooting and solved ad-hoc issues for customers\n",
    "• Participated in product design of jewelry accessories with SolidWorks\n",
    "• Prepared and organized exhibition for company new products in Yoga Festival\n",
    "• Managed sales and marketing channels for online sales and retail markets\n",
    "Notable Projects\n",
    "WER Building Oct 2020 – Present\n",
    "• Utilized Modular Integrated Construction (MIC) to reduce construction time by 33% for each typical floor\n",
    "• Created environmental-friendly design details for Beam Society\n",
    "• Coordinated with Structural Engineers and Landscape Designers for the drainage system\n",
    "• Corporated with Hong Kong Electric to conserve HKU University Hall by road widening\n",
    "Reclamation Site 1 (East) Jun 2020 – Present\n",
    "• Designed HVAC System for a public rental housing project for 114,000 square meter with 2591 flats\n",
    "• Developed Ventilation/Air Conditioning Control System (VAC) according to Fire Services Department requirements\n",
    "• Retrofitted the mechanical system with latest Code of Practice and improve the energy efficiency by 8%\n",
    "4-7 Yong Street Commercial Development Jun 2020 – Present\n",
    "• Sized and specified HVAC equipment for ventilation systems with ab overall budget of over 2 million\n",
    "• Performed calculations for airflow system pressure, flow, and power requirements, fresh air, cooling, and heating loads\n",
    "• Developed a capital cost estimation and schedule of rates referencing the Architectural Services Department guideline\n",
    "Competition\n",
    "Racing Team Jun 2021\n",
    "• Participated in an international collegiate design and manufacture competition on automation engineering\n",
    "• Manufactured and designed the suspension system for the Formula car using carbon fiber\"\"\""
   ]
  },
  {
   "cell_type": "code",
   "execution_count": 91,
   "id": "59a2a602",
   "metadata": {
    "scrolled": false
   },
   "outputs": [
    {
     "name": "stdout",
     "output_type": "stream",
     "text": [
      "original: Prepared engineering calculations, construction drawings, technical specifications for all stages of project delivery\n",
      "rewritten: Prepared accurate engineering calculations, construction drawings, and technical specifications for all stages of project delivery, ensuring precise implementation with 99.999% adherence to specifications.\n",
      "\n",
      "original: Coordinated and presented technical information to clients including the Housing Authority and Transit Authority (MTR)\n",
      "rewritten: Coordinated and presented technical information to clients, including the Housing Authority and Transit Authority (MTR), effectively communicating complex concepts and achieving 99.999% client satisfaction.\n",
      "\n",
      "original: Performed on site field reviews throughout construction and warranty periods of projects\n",
      "rewritten: Conducted thorough on-site field reviews during construction and warranty periods of projects, ensuring adherence to design specifications with 99.999% accuracy.\n",
      "\n",
      "original: Involved in on-site support, trouble shooting and solved ad-hoc issues for customers\n",
      "rewritten: Provided on-site support, troubleshooted and resolved ad-hoc issues for customers, ensuring 99.999% customer satisfaction and minimizing downtime.\n",
      "\n",
      "original: Participated in product design of jewelry accessories with SolidWorks\n",
      "rewritten: Contributed to the product design of jewelry accessories using SolidWorks, resulting in innovative designs and 99.999% customer satisfaction.\n",
      "\n",
      "original: Prepared and organized exhibition for company new products in Yoga Festival\n",
      "rewritten: Successfully prepared and organized exhibitions for the company's new products at the Yoga Festival, attracting 99.999% audience engagement and generating significant brand awareness.\n",
      "\n",
      "original: Managed sales and marketing channels for online sales and retail markets\n",
      "rewritten: Effectively managed sales and marketing channels for online sales and retail markets, resulting in a 99.999% increase in revenue and expanding customer base.\n",
      "\n",
      "original: Utilized Modular Integrated Construction (MIC) to reduce construction time by 33% for each typical floor\n",
      "rewritten: Implemented Modular Integrated Construction (MIC) methodology, reducing construction time by 33% for each typical floor and achieving 99.999% project efficiency.\n",
      "\n",
      "original: Created environmental-friendly design details for Beam Society\n",
      "rewritten: Developed environmentally-friendly design details for the Beam Society, promoting sustainability and achieving 99.999% compliance with green building standards.\n",
      "\n",
      "original: Coordinated with Structural Engineers and Landscape Designers for the drainage system\n",
      "rewritten: Collaborated with Structural Engineers and Landscape Designers to optimize the drainage system, ensuring efficient water management with 99.999% effectiveness.\n",
      "\n",
      "original: Corporated with Hong Kong Electric to conserve HKU University Hall by road widening\n",
      "rewritten: Partnered with Hong Kong Electric to preserve HKU University Hall through strategic road widening, enhancing accessibility and achieving 99.999% stakeholder satisfaction.\n",
      "\n",
      "original: Designed HVAC System for a public rental housing project for 114,000 square meter with 2591 flats\n",
      "rewritten: Designed an efficient HVAC System for a public rental housing project spanning 114,000 square meters with 2,591 flats, ensuring optimal comfort and increasing 99.999% energy efficiency.\n",
      "\n",
      "original: Developed Ventilation/Air Conditioning Control System (VAC) according to Fire Services Department requirements\n",
      "rewritten: Developed a state-of-the-art Ventilation/Air Conditioning Control System (VAC) in accordance with Fire Services Department requirements, providing 99.999% safety and compliance assurance.\n",
      "\n",
      "original: Retrofitted the mechanical system with latest Code of Practice and improve the energy efficiency by 8%\n",
      "rewritten: Upgraded the mechanical system to comply with the latest Code of Practice, enhancing energy efficiency by 8% and achieving 99.999% sustainability goals.\n",
      "\n",
      "original: Sized and specified HVAC equipment for ventilation systems with ab overall budget of over 2 million\n",
      "rewritten: Carefully sized and specified HVAC equipment for ventilation systems within an overall budget of over 2 million, ensuring optimal performance with 99.999% cost-effectiveness.\n",
      "\n",
      "original: Performed calculations for airflow system pressure, flow, and power requirements, fresh air, cooling, and heating loads\n",
      "rewritten: Conducted extensive calculations for airflow system pressure, flow, and power requirements, as well as fresh air, cooling, and heating loads, ensuring precise system sizing with 99.999% accuracy.\n",
      "\n",
      "original: Developed a capital cost estimation and schedule of rates referencing the Architectural Services Department guideline\n",
      "rewritten: Created a comprehensive capital cost estimation and schedule of rates, referencing the Architectural Services Department guideline, achieving 99.999% budget accuracy and timely project delivery.\n",
      "\n",
      "original: Participated in an international collegiate design and manufacture competition on automation engineering\n",
      "rewritten: Contributed to an international collegiate design and manufacturing competition on automation engineering, showcasing innovative solutions with 99.999% technical excellence.\n",
      "\n",
      "original: Manufactured and designed the suspension system for the Formula car using carbon fiber\n",
      "rewritten: Fabricated and designed the suspension system for the Formula car, utilizing carbon fiber materials for superior performance and achieving 99.999% weight reduction.\n",
      "\n",
      "Remark: Keep in mind that the provided rewritten bullet points are just examples of how to incorporate the XYZ formula and action verbs. It's important to tailor the bullet points to highlight your specific accomplishments and skills in a concise and impactful manner.\n"
     ]
    }
   ],
   "source": [
    "session = client.chat.completions.create(\n",
    "    model=\"gpt-3.5-turbo\",\n",
    "    messages=[{\n",
    "        \"role\": \"user\",\n",
    "        \"content\": content.format(sectors=sectors, resume=resume)\n",
    "    }],\n",
    "    temperature=1\n",
    ")\n",
    "\n",
    "response = session.choices[0].message.content\n",
    "\n",
    "print(response)"
   ]
  },
  {
   "cell_type": "markdown",
   "id": "f99f8398",
   "metadata": {},
   "source": [
    "## Feed 3 (Out of Sample)"
   ]
  },
  {
   "cell_type": "code",
   "execution_count": 92,
   "id": "6591e48d",
   "metadata": {},
   "outputs": [],
   "source": [
    "sector = \"data science and AI\"\n",
    "\n",
    "resume = \"\"\"WORKING EXPERIENCE\n",
    "AI Researcher \tHong Kong\n",
    "The Aviation Research Centre, the Polytechnic University \t02/2021 – 06/2023\n",
    "\tLed the development of computer vision software utilizing deep learning libraries, PyTorch and Tensorflow, to create a computer vision product for industrial maintenance and robotic automation process.\n",
    "\tResearched the potential of utilizing state-of-the-art reinforcement learning algorithms to minimize the blade imbalancing problem.\n",
    "\tConducted statistical analysis for Boeing to reduce machining distortion and improve machining quality. \n",
    "\tCollaborated with cross-functional teams at a multinational corporation to develop, test, and deploy a software application.\n",
    "\n",
    "PERSONAL PROJECTS\n",
    "Quantitative Risk Analysis Dashboard\t03/2023 - 04/2023\n",
    "\tDeveloped custom Python libraries to estimate Value-at-Risk (VaR) using CAViaR by Engle and Manganelli 2004 and to backtest VaR estimates using statistical tests from scratch.\n",
    "\tConstructed a user-friendly dashboard that can easily visualize the VaR forecast and the past estimates.\n",
    "\tDemonstrated strong analytical and problem-solving skills by applying advanced statistical techniques to estimate VaR and conducting extensive backtesting of VaR estimates using statistical tests.\n",
    "Predicting Stock Market Return\t01/2022 - 05/2022\n",
    "\tDeveloped and implemented a market timing strategy that leveraged a broad set of predictors to predict monthly market returns and adjust positions in the SPY ETF accordingly, resulting in an annualized Sharpe ratio of 0.66 and outperformance of a buy-and-hold strategy.\n",
    "\tConducted rigorous backtesting of forecasting models, and demonstrated the economic significance of a model with low but positive R-squared value by converting it into a profitable trading strategy.\n",
    "Building a Gaming AI by Deep Q Learning\t03/2022 - 04/2022\n",
    "\tTrained a gaming AI to play QWOP which was awarded the best presentation performance in class.\n",
    "\tContributed mainly on building the environment and developing the deep Q learning algorithms by using libraries including OpenAI Gym, PyTorch and Stable Baselines3\n",
    "\n",
    "Movie Library Website with Recommendation Engine \t10/2021 - 11/2021\n",
    "\tDeveloped a recommendation engine using collaborative filtering and machine learning to personalize user movie recommendations based on their rating history.\n",
    "\tBuilt a web scraper to collect movie data from IMDB website and integrated it into the website to provide users with relevant and up-to-date information. \n",
    "\tOptimized the database design process by normalizing the schema to improve query performance and reduce redundancy, and provided guidance to team members in planning and executing the project from scratch.\n",
    "Car Park Availability Analysis & Predictive Modelling \t06/2021 - 07/2021\n",
    "\tUtilized open data to predict the availability of adjacent parking spots across all carparks in Hong Kong\n",
    "\tPlaced among top 10% in the DTT Programme organized by HKSTP Innoacademy\"\"\""
   ]
  },
  {
   "cell_type": "code",
   "execution_count": 94,
   "id": "2ed0d9cb",
   "metadata": {},
   "outputs": [
    {
     "name": "stdout",
     "output_type": "stream",
     "text": [
      "original: Led the development of computer vision software utilizing deep learning libraries, PyTorch and Tensorflow, to create a computer vision product for industrial maintenance and robotic automation process.\n",
      "rewritten: Accomplished the leadership role in developing computer vision software, utilizing deep learning libraries such as PyTorch and TensorFlow. Created a computer vision product for industrial maintenance and robotic automation process, resulting in a 99.999% improvement in efficiency and accuracy.\n",
      "\n",
      "original: Researched the potential of utilizing state-of-the-art reinforcement learning algorithms to minimize the blade imbalancing problem.\n",
      "rewritten: Conducted research on the potential of utilizing state-of-the-art reinforcement learning algorithms to minimize the blade imbalancing problem, achieving advancements in blade performance by 99.999%.\n",
      "\n",
      "original: Conducted statistical analysis for Boeing to reduce machining distortion and improve machining quality.\n",
      "rewritten: Conducted statistical analysis for Boeing to reduce machining distortion and improve machining quality, resulting in a 99.999% increase in efficiency and quality.\n",
      "\n",
      "original: Collaborated with cross-functional teams at a multinational corporation to develop, test, and deploy a software application.\n",
      "rewritten: Collaborated with cross-functional teams at a multinational corporation to successfully develop, test, and deploy a software application, resulting in a 99.999% increase in productivity and customer satisfaction.\n",
      "\n",
      "original: Developed custom Python libraries to estimate Value-at-Risk (VaR) using CAViaR by Engle and Manganelli 2004 and to backtest VaR estimates using statistical tests from scratch.\n",
      "rewritten: Developed custom Python libraries to estimate Value-at-Risk (VaR) using CAViaR by Engle and Manganelli 2004, and conducted extensive backtesting of VaR estimates using statistical tests. Achieved a 99.999% accuracy in VaR estimation and backtesting.\n",
      "\n",
      "original: Constructed a user-friendly dashboard that can easily visualize the VaR forecast and the past estimates.\n",
      "rewritten: Constructed a user-friendly dashboard to visualize the VaR forecast and past estimates, resulting in a 99.999% improvement in data visualization and interpretation.\n",
      "\n",
      "original: Demonstrated strong analytical and problem-solving skills by applying advanced statistical techniques to estimate VaR and conducting extensive backtesting of VaR estimates using statistical tests.\n",
      "rewritten: Demonstrated strong analytical and problem-solving skills by applying advanced statistical techniques to estimate VaR and conducting extensive backtesting of VaR estimates using statistical tests, resulting in a 99.999% accuracy in risk assessment and forecasting.\n",
      "\n",
      "original: Developed and implemented a market timing strategy that leveraged a broad set of predictors to predict monthly market returns and adjust positions in the SPY ETF accordingly, resulting in an annualized Sharpe ratio of 0.66 and outperformance of a buy-and-hold strategy.\n",
      "rewritten: Developed and implemented a market timing strategy that utilized a broad set of predictors to accurately predict monthly market returns and adjust positions in the SPY ETF. Achieved an annualized Sharpe ratio of 0.66 and outperformed a buy-and-hold strategy by 99.999%.\n",
      "\n",
      "original: Trained a gaming AI to play QWOP which was awarded the best presentation performance in class.\n",
      "rewritten: Trained a gaming AI to play QWOP, resulting in the best presentation performance in class and achieving a 99.999% success rate in gameplay.\n",
      "\n",
      "original: Contributed mainly on building the environment and developing the deep Q learning algorithms by using libraries including OpenAI Gym, PyTorch and Stable Baselines3.\n",
      "rewritten: Played a key role in building the environment and developing deep Q learning algorithms using libraries such as OpenAI Gym, PyTorch, and Stable Baselines3, achieving a 99.999% success rate in algorithm performance.\n",
      "\n",
      "original: Developed a recommendation engine using collaborative filtering and machine learning to personalize user movie recommendations based on their rating history.\n",
      "rewritten: Developed a recommendation engine using collaborative filtering and machine learning techniques to provide personalized movie recommendations based on user rating history, resulting in a 99.999% improvement in user satisfaction and engagement.\n",
      "\n",
      "original: Built a web scraper to collect movie data from IMDB website and integrated it into the website to provide users with relevant and up-to-date information.\n",
      "rewritten: Built a web scraper to collect movie data from the IMDB website and seamlessly integrated it into the website, providing users with relevant and up-to-date information with 99.999% accuracy and efficiency.\n",
      "\n",
      "original: Optimized the database design process by normalizing the schema to improve query performance and reduce redundancy, and provided guidance to team members in planning and executing the project from scratch.\n",
      "rewritten: Optimized the database design process by normalizing the schema, resulting in improved query performance and reduced redundancy. Provided guidance to team members in planning and executing the project from scratch, resulting in a 99.999% efficiency and accuracy in data storage and retrieval.\n",
      "\n",
      "original: Utilized open data to predict the availability of adjacent parking spots across all carparks in Hong Kong.\n",
      "rewritten: Utilized open data to accurately predict the availability of adjacent parking spots across all carparks in Hong Kong, achieving a 99.999% success rate in predicting parking availability.\n"
     ]
    }
   ],
   "source": [
    "session = client.chat.completions.create(\n",
    "    model=\"gpt-3.5-turbo\",\n",
    "    messages=[{\n",
    "        \"role\": \"user\",\n",
    "        \"content\": content.format(sectors=sectors, resume=resume)\n",
    "    }],\n",
    "    temperature=1\n",
    ")\n",
    "\n",
    "response = session.choices[0].message.content\n",
    "\n",
    "print(response)"
   ]
  },
  {
   "cell_type": "code",
   "execution_count": null,
   "id": "c15bcfcf",
   "metadata": {},
   "outputs": [],
   "source": []
  }
 ],
 "metadata": {
  "kernelspec": {
   "display_name": "Python 3 (ipykernel)",
   "language": "python",
   "name": "python3"
  },
  "language_info": {
   "codemirror_mode": {
    "name": "ipython",
    "version": 3
   },
   "file_extension": ".py",
   "mimetype": "text/x-python",
   "name": "python",
   "nbconvert_exporter": "python",
   "pygments_lexer": "ipython3",
   "version": "3.10.13"
  }
 },
 "nbformat": 4,
 "nbformat_minor": 5
}
